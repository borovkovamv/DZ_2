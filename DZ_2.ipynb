{
 "cells": [
  {
   "cell_type": "markdown",
   "metadata": {},
   "source": [
    "Задание 1"
   ]
  },
  {
   "cell_type": "code",
   "execution_count": 1,
   "metadata": {},
   "outputs": [],
   "source": [
    "long_phrase = 'Насколько проще было бы писать программы, если бы не заказчики'\n",
    "short_phrase = '640Кб должно хватить для любых задач. Билл Гейтс (по легенде)'"
   ]
  },
  {
   "cell_type": "code",
   "execution_count": 2,
   "metadata": {},
   "outputs": [
    {
     "data": {
      "text/plain": [
       "True"
      ]
     },
     "execution_count": 2,
     "metadata": {},
     "output_type": "execute_result"
    }
   ],
   "source": [
    "len(long_phrase) > len(short_phrase)"
   ]
  },
  {
   "cell_type": "markdown",
   "metadata": {},
   "source": [
    "Задание 2"
   ]
  },
  {
   "cell_type": "code",
   "execution_count": 3,
   "metadata": {},
   "outputs": [
    {
     "name": "stdout",
     "output_type": "stream",
     "text": [
      "Введите значение в байтах: 224059720\n",
      "Объем файла равен  213.68000030517578 Mb\n"
     ]
    }
   ],
   "source": [
    "a = int(input('Введите значение в байтах: '))\n",
    "b = a / (2**20)\n",
    "print('Объем файла равен ', b, 'Mb')"
   ]
  },
  {
   "cell_type": "markdown",
   "metadata": {},
   "source": [
    "Задание 3"
   ]
  },
  {
   "cell_type": "code",
   "execution_count": 4,
   "metadata": {},
   "outputs": [
    {
     "name": "stdout",
     "output_type": "stream",
     "text": [
      "Введите месяц: май\n",
      "Введите дату: 21\n",
      "Близнецы\n"
     ]
    }
   ],
   "source": [
    "month = input('Введите месяц: ')\n",
    "date = int(input('Введите дату: '))\n",
    "if (month == 'январь' and  20 <= date <= 31) or (month == 'февраль' and  1 <= date <= 19):\n",
    "    print('Водолей')    \n",
    "elif (month == 'февраль' and  20 <= date <= 29) or (month == 'март' and  1 <= date <= 20):\n",
    "    print('Рыбы')\n",
    "elif (month == 'март' and  21 <= date <= 31) or (month == 'апрель' and  1 <= date <= 20):\n",
    "    print('Овен')\n",
    "elif (month == 'апрель' and  21 <= date <= 30) or (month == 'май' and  1 <= date <= 20):\n",
    "    print('Телец')\n",
    "elif (month == 'май' and  21 <= date <= 31) or (month == 'июнь' and  1 <= date <= 20):\n",
    "    print('Близнецы')\n",
    "elif (month == 'июнь' and  21 <= date <= 30) or (month == 'июль' and  1 <= date <= 22):\n",
    "    print('Рак')\n",
    "elif (month == 'июль' and  23 <= date <= 31) or (month == 'август' and  1 <= date <= 22):\n",
    "    print('Лев')\n",
    "elif (month == 'август' and  23 <= date <= 31) or (month == 'сентябрь' and  1 <= date <= 22):\n",
    "    print('Дева')\n",
    "elif (month == 'сентябрь' and  23 <= date <= 30) or (month == 'октябрь' and  1 <= date <= 22):\n",
    "    print('Весы')\n",
    "elif (month == 'октябрь' and  23 <= date <= 31) or (month == 'ноябрь' and  1 <= date <= 22):\n",
    "    print('Скорпион')\n",
    "elif (month == 'ноябрь' and  23 <= date <= 30) or (month == 'декабрь' and  1 <= date <= 21):\n",
    "    print('Стрелец')\n",
    "elif (month == 'декабрь' and  22 <= date <= 31) or (month == 'январь' and  1 <= date <= 19):\n",
    "    print('Козерог')\n",
    "else:\n",
    "    print('Введены некорректые значения')"
   ]
  },
  {
   "cell_type": "markdown",
   "metadata": {},
   "source": [
    "Задание 4"
   ]
  },
  {
   "cell_type": "code",
   "execution_count": 5,
   "metadata": {},
   "outputs": [
    {
     "name": "stdout",
     "output_type": "stream",
     "text": [
      "Введите заработанную плату в месяц: 100000\n",
      "Введите сколько процентов уходит на ипотеку: 30\n",
      "Введите сколько процентов уходит на жизнь: 50\n",
      "Введите количество премий за год: 2\n",
      "На ипотеку было потрачено:  360000.0  рублей. Было накоплено:  340000.0 рублей\n"
     ]
    }
   ],
   "source": [
    "zp = int(input('Введите заработанную плату в месяц: '))\n",
    "ipoteka = int(input('Введите сколько процентов уходит на ипотеку: '))\n",
    "rashod = int(input('Введите сколько процентов уходит на жизнь: '))\n",
    "KolPremii = int(input('Введите количество премий за год: '))\n",
    "otpusk = KolPremii*zp/2\n",
    "pensia = (zp - (ipoteka/100*zp) -(rashod/100*zp))*12 + KolPremii*zp/2\n",
    "print('На ипотеку было потрачено: ', zp*(ipoteka/100)*12,' рублей. Было накоплено: ', pensia, 'рублей')\n"
   ]
  },
  {
   "cell_type": "code",
   "execution_count": null,
   "metadata": {},
   "outputs": [],
   "source": []
  }
 ],
 "metadata": {
  "kernelspec": {
   "display_name": "Python 3",
   "language": "python",
   "name": "python3"
  },
  "language_info": {
   "codemirror_mode": {
    "name": "ipython",
    "version": 3
   },
   "file_extension": ".py",
   "mimetype": "text/x-python",
   "name": "python",
   "nbconvert_exporter": "python",
   "pygments_lexer": "ipython3",
   "version": "3.7.6"
  }
 },
 "nbformat": 4,
 "nbformat_minor": 4
}
